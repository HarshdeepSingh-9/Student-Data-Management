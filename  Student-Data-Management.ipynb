{
  "nbformat": 4,
  "nbformat_minor": 0,
  "metadata": {
    "colab": {
      "provenance": [],
      "include_colab_link": true
    },
    "kernelspec": {
      "name": "python3",
      "display_name": "Python 3"
    },
    "language_info": {
      "name": "python"
    }
  },
  "cells": [
    {
      "cell_type": "markdown",
      "metadata": {
        "id": "view-in-github",
        "colab_type": "text"
      },
      "source": [
        "<a href=\"https://colab.research.google.com/github/HarshdeepSingh-9/Student-Data-Management/blob/main/%20Student-Data-Management.ipynb\" target=\"_parent\"><img src=\"https://colab.research.google.com/assets/colab-badge.svg\" alt=\"Open In Colab\"/></a>"
      ]
    },
    {
      "cell_type": "markdown",
      "source": [
        "Main code for menu and input of python"
      ],
      "metadata": {
        "id": "o0RAk32gs_45"
      }
    },
    {
      "cell_type": "code",
      "execution_count": null,
      "metadata": {
        "colab": {
          "base_uri": "https://localhost:8080/"
        },
        "id": "0erMXkkVnW3c",
        "outputId": "a3fc8c15-91f7-46c8-c0f4-f78c48d7a8a1"
      },
      "outputs": [
        {
          "name": "stdout",
          "output_type": "stream",
          "text": [
            "\n",
            "      1.GPA Calculator\n",
            "      2.GPA Chart\n",
            "      3.Put Student\n",
            "      4.Find Student\n",
            "      5.Exit\n",
            "\n",
            "      \n",
            "Enter your choice !- 1\n",
            "Enter Number of courses taken this semester - 5\n",
            "Enter score - 4\n",
            "Enter score - 4\n",
            "Enter score - 3\n",
            "Enter score - 2\n",
            "Enter score - 4\n",
            "THIS SEMESTER GPA ----- 3.4\n",
            "\n",
            "      1.GPA Calculator\n",
            "      2.GPA Chart\n",
            "      3.Put Student\n",
            "      4.Find Student\n",
            "      5.Exit\n",
            "\n",
            "      \n",
            "Enter your choice !- 3\n",
            "Enter the name of the student - chandra\n",
            "enter the course code - cps109\n",
            "enter the course score - 100\n",
            "want to add more course Y,N - y\n",
            "is this the same student Y/N - Y\n",
            "enter the course code - mth109\n",
            "enter the course score - 78\n",
            "want to add more course Y,N - Y\n",
            "is this the same student Y/N - N\n",
            "Enter the name of the student - harsh\n",
            "enter the course code - cps109\n",
            "enter the course score - 78\n",
            "want to add more course Y,N - Y\n",
            "is this the same student Y/N - Y\n",
            "enter the course code - BSM100\n",
            "enter the course score - 67\n",
            "want to add more course Y,N - N\n",
            "Student name - chandra\n",
            "subject code - cps109 subject score - 100\n",
            "subject code - mth109 subject score - 78\n",
            "Student name - harsh\n",
            "subject code - cps109 subject score - 78\n",
            "subject code - BSM100 subject score - 67\n",
            "\n",
            "      1.GPA Calculator\n",
            "      2.GPA Chart\n",
            "      3.Put Student\n",
            "      4.Find Student\n",
            "      5.Exit\n",
            "\n",
            "      \n",
            "Enter your choice !- 5\n"
          ]
        }
      ],
      "source": [
        "from PIL import Image\n",
        "name =[] # list of all input student names\n",
        "subject_dic={} # dict to store current student detail\n",
        "subject_tracker=[] # overall summary of courseCode and courseScore\n",
        "each_collection=[] # list to seperate the details of different students\n",
        "\n",
        "def main_menu():\n",
        "  print(\n",
        "      \"\"\"\n",
        "      1.GPA Calculator\n",
        "      2.GPA Chart\n",
        "      3.Put Student\n",
        "      4.Find Student\n",
        "      5.Exit\n",
        "\n",
        "      \"\"\"\n",
        "  )\n",
        "  ask=int(input(\"Enter your choice !- \"))\n",
        "  if(ask<=0 and ask>=6):\n",
        "    print(\"Choice it right !!\")\n",
        "  elif(ask==1):\n",
        "    GPA_cal()\n",
        "  elif(ask==2):\n",
        "    GPA_chart()\n",
        "  elif(ask==3):\n",
        "    interface()\n",
        "\n",
        "def GPA_cal():\n",
        "  all_subs=[]\n",
        "  total_course = int(input(\"Enter Number of courses taken this semester - \"))\n",
        "  while(total_course!=0):\n",
        "    course_in = float(input(\"Enter score - \"))\n",
        "    all_subs.append(course_in)\n",
        "    total_course-=1\n",
        "    out=sum(all_subs)/len(all_subs)\n",
        "    out=float(\"{:.2f}\".format(out))\n",
        "  print(\"THIS SEMESTER GPA ----- \"+str(out))\n",
        "  main_menu()\n",
        "\n",
        "def GPA_chart():\n",
        "  popUp=Image.open(\"scale.jpg\") # runs fine just always put the scale.jpg into google collab memory .\n",
        "  popUp.show()\n",
        "  main_menu()\n",
        "\n",
        "def interface():\n",
        "  name_a=input(\"Enter the name of the student - \") # pop up for names \n",
        "  name.append(name_a)\n",
        "  input_details()\n",
        "\n",
        "def input_details():   # here we take in details ab\\out the course name and course score and put onto a dict by using a different function\n",
        "    global each_collection\n",
        "    global subject_dic\n",
        "    Course_name=input(\"enter the course code - \")\n",
        "    Course_score = int(input(\"enter the course score - \"))\n",
        "    add_course(Course_name,Course_score)# here we call different function\n",
        "    option = input(\"want to add more course Y,N - \")\n",
        "\n",
        "    if(option==\"N\"):\n",
        "      each_collection.append(subject_dic) # will add each student detail as a seperate list into the main summary\n",
        "      subject_tracker.append(each_collection)\n",
        "      deatils_out() # seperate function tp print out the data\n",
        "\n",
        "    else:\n",
        "      same_student=input(\"is this the same student Y/N - \")\n",
        "\n",
        "      if(same_student==\"Y\"):\n",
        "        input_details()\n",
        "\n",
        "      else:\n",
        "        each_collection.append(subject_dic) # if student is not same just storing the initial data into the main list , and cleaning up the followups to take new details of new student\n",
        "        subject_tracker.append(each_collection)\n",
        "        subject_dic={}\n",
        "        each_collection=[]\n",
        "        interface() # then back to start taking details\n",
        "\n",
        "\n",
        "def add_course(Course_name,Course_score):\n",
        "  subject_dic[Course_name]=(Course_score)\n",
        "\n",
        "\n",
        "def deatils_out():\n",
        "  for i in range(len(name)):\n",
        "    print(\"Student name - \" +name[i])\n",
        "    for k,v in subject_tracker[i][0].items():\n",
        "      print(\"subject code - \"+k+\" subject score - \"+str(v))\n",
        "  main_menu()\n",
        "\n",
        "main_menu()\n",
        "\n",
        "\n",
        "####\n",
        "\n",
        "# only have to put csv linked with this , just by name and course code and score coloum \n",
        "# also we will use csv to find out particular name into t\\he csv and print details \n",
        "# we will also add student number with name , this have to be done  \n",
        "\n",
        "####\n"
      ]
    },
    {
      "cell_type": "markdown",
      "source": [
        "Connection with Sql and CSV files - (work in progress)"
      ],
      "metadata": {
        "id": "KbhXNZsktIO9"
      }
    }
  ]
}